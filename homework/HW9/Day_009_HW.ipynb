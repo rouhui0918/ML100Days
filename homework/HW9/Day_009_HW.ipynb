{
 "cells": [
  {
   "cell_type": "markdown",
   "metadata": {},
   "source": [
    "# 檢視與處理 Outliers\n",
    "### 為何會有 outliers, 常見的 outlier 原因\n",
    "* 未知值，隨意填補 (約定俗成的代入)，如年齡常見 0,999\n",
    "* 可能的錯誤紀錄/手誤/系統性錯誤，如某本書在某筆訂單的銷售量 = 1000 本"
   ]
  },
  {
   "cell_type": "markdown",
   "metadata": {},
   "source": [
    "# [作業目標]\n",
    "- 依照下列提示與引導, 以幾種不同的方式, 檢視可能的離群值"
   ]
  },
  {
   "cell_type": "markdown",
   "metadata": {},
   "source": [
    "# [作業重點]\n",
    "- 從原始資料篩選可能的欄位, 看看那些欄位可能有離群值 (In[3], Out[3])\n",
    "- 繪製目標值累積密度函數(ECDF)的圖形, 和常態分布的累積密度函數對比, 以確認是否有離群值的情形 (In[6], Out[6], In[7], Out[7])"
   ]
  },
  {
   "cell_type": "code",
   "execution_count": 1,
   "metadata": {},
   "outputs": [],
   "source": [
    "# Import 需要的套件\n",
    "import os\n",
    "import numpy as np\n",
    "import pandas as pd\n",
    "import matplotlib.pyplot as plt\n",
    "\n",
    "%matplotlib inline\n",
    "\n",
    "# 設定 data_path\n",
    "dir_data = 'C:/Users/rouhui/Documents/GitHub/ML100days/homework/HW9/'"
   ]
  },
  {
   "cell_type": "code",
   "execution_count": 2,
   "metadata": {},
   "outputs": [
    {
     "name": "stdout",
     "output_type": "stream",
     "text": [
      "Path of read in data: C:/Users/rouhui/Documents/GitHub/ML100days/homework/HW9/application_train.csv\n"
     ]
    },
    {
     "data": {
      "text/html": [
       "<div>\n",
       "<style scoped>\n",
       "    .dataframe tbody tr th:only-of-type {\n",
       "        vertical-align: middle;\n",
       "    }\n",
       "\n",
       "    .dataframe tbody tr th {\n",
       "        vertical-align: top;\n",
       "    }\n",
       "\n",
       "    .dataframe thead th {\n",
       "        text-align: right;\n",
       "    }\n",
       "</style>\n",
       "<table border=\"1\" class=\"dataframe\">\n",
       "  <thead>\n",
       "    <tr style=\"text-align: right;\">\n",
       "      <th></th>\n",
       "      <th>SK_ID_CURR</th>\n",
       "      <th>TARGET</th>\n",
       "      <th>NAME_CONTRACT_TYPE</th>\n",
       "      <th>CODE_GENDER</th>\n",
       "      <th>FLAG_OWN_CAR</th>\n",
       "      <th>FLAG_OWN_REALTY</th>\n",
       "      <th>CNT_CHILDREN</th>\n",
       "      <th>AMT_INCOME_TOTAL</th>\n",
       "      <th>AMT_CREDIT</th>\n",
       "      <th>AMT_ANNUITY</th>\n",
       "      <th>...</th>\n",
       "      <th>FLAG_DOCUMENT_18</th>\n",
       "      <th>FLAG_DOCUMENT_19</th>\n",
       "      <th>FLAG_DOCUMENT_20</th>\n",
       "      <th>FLAG_DOCUMENT_21</th>\n",
       "      <th>AMT_REQ_CREDIT_BUREAU_HOUR</th>\n",
       "      <th>AMT_REQ_CREDIT_BUREAU_DAY</th>\n",
       "      <th>AMT_REQ_CREDIT_BUREAU_WEEK</th>\n",
       "      <th>AMT_REQ_CREDIT_BUREAU_MON</th>\n",
       "      <th>AMT_REQ_CREDIT_BUREAU_QRT</th>\n",
       "      <th>AMT_REQ_CREDIT_BUREAU_YEAR</th>\n",
       "    </tr>\n",
       "  </thead>\n",
       "  <tbody>\n",
       "    <tr>\n",
       "      <th>0</th>\n",
       "      <td>100002</td>\n",
       "      <td>1</td>\n",
       "      <td>Cash loans</td>\n",
       "      <td>M</td>\n",
       "      <td>N</td>\n",
       "      <td>Y</td>\n",
       "      <td>0</td>\n",
       "      <td>202500.0</td>\n",
       "      <td>406597.5</td>\n",
       "      <td>24700.5</td>\n",
       "      <td>...</td>\n",
       "      <td>0</td>\n",
       "      <td>0</td>\n",
       "      <td>0</td>\n",
       "      <td>0</td>\n",
       "      <td>0.0</td>\n",
       "      <td>0.0</td>\n",
       "      <td>0.0</td>\n",
       "      <td>0.0</td>\n",
       "      <td>0.0</td>\n",
       "      <td>1.0</td>\n",
       "    </tr>\n",
       "    <tr>\n",
       "      <th>1</th>\n",
       "      <td>100003</td>\n",
       "      <td>0</td>\n",
       "      <td>Cash loans</td>\n",
       "      <td>F</td>\n",
       "      <td>N</td>\n",
       "      <td>N</td>\n",
       "      <td>0</td>\n",
       "      <td>270000.0</td>\n",
       "      <td>1293502.5</td>\n",
       "      <td>35698.5</td>\n",
       "      <td>...</td>\n",
       "      <td>0</td>\n",
       "      <td>0</td>\n",
       "      <td>0</td>\n",
       "      <td>0</td>\n",
       "      <td>0.0</td>\n",
       "      <td>0.0</td>\n",
       "      <td>0.0</td>\n",
       "      <td>0.0</td>\n",
       "      <td>0.0</td>\n",
       "      <td>0.0</td>\n",
       "    </tr>\n",
       "    <tr>\n",
       "      <th>2</th>\n",
       "      <td>100004</td>\n",
       "      <td>0</td>\n",
       "      <td>Revolving loans</td>\n",
       "      <td>M</td>\n",
       "      <td>Y</td>\n",
       "      <td>Y</td>\n",
       "      <td>0</td>\n",
       "      <td>67500.0</td>\n",
       "      <td>135000.0</td>\n",
       "      <td>6750.0</td>\n",
       "      <td>...</td>\n",
       "      <td>0</td>\n",
       "      <td>0</td>\n",
       "      <td>0</td>\n",
       "      <td>0</td>\n",
       "      <td>0.0</td>\n",
       "      <td>0.0</td>\n",
       "      <td>0.0</td>\n",
       "      <td>0.0</td>\n",
       "      <td>0.0</td>\n",
       "      <td>0.0</td>\n",
       "    </tr>\n",
       "    <tr>\n",
       "      <th>3</th>\n",
       "      <td>100006</td>\n",
       "      <td>0</td>\n",
       "      <td>Cash loans</td>\n",
       "      <td>F</td>\n",
       "      <td>N</td>\n",
       "      <td>Y</td>\n",
       "      <td>0</td>\n",
       "      <td>135000.0</td>\n",
       "      <td>312682.5</td>\n",
       "      <td>29686.5</td>\n",
       "      <td>...</td>\n",
       "      <td>0</td>\n",
       "      <td>0</td>\n",
       "      <td>0</td>\n",
       "      <td>0</td>\n",
       "      <td>NaN</td>\n",
       "      <td>NaN</td>\n",
       "      <td>NaN</td>\n",
       "      <td>NaN</td>\n",
       "      <td>NaN</td>\n",
       "      <td>NaN</td>\n",
       "    </tr>\n",
       "    <tr>\n",
       "      <th>4</th>\n",
       "      <td>100007</td>\n",
       "      <td>0</td>\n",
       "      <td>Cash loans</td>\n",
       "      <td>M</td>\n",
       "      <td>N</td>\n",
       "      <td>Y</td>\n",
       "      <td>0</td>\n",
       "      <td>121500.0</td>\n",
       "      <td>513000.0</td>\n",
       "      <td>21865.5</td>\n",
       "      <td>...</td>\n",
       "      <td>0</td>\n",
       "      <td>0</td>\n",
       "      <td>0</td>\n",
       "      <td>0</td>\n",
       "      <td>0.0</td>\n",
       "      <td>0.0</td>\n",
       "      <td>0.0</td>\n",
       "      <td>0.0</td>\n",
       "      <td>0.0</td>\n",
       "      <td>0.0</td>\n",
       "    </tr>\n",
       "  </tbody>\n",
       "</table>\n",
       "<p>5 rows × 122 columns</p>\n",
       "</div>"
      ],
      "text/plain": [
       "   SK_ID_CURR  TARGET NAME_CONTRACT_TYPE CODE_GENDER FLAG_OWN_CAR  \\\n",
       "0      100002       1         Cash loans           M            N   \n",
       "1      100003       0         Cash loans           F            N   \n",
       "2      100004       0    Revolving loans           M            Y   \n",
       "3      100006       0         Cash loans           F            N   \n",
       "4      100007       0         Cash loans           M            N   \n",
       "\n",
       "  FLAG_OWN_REALTY  CNT_CHILDREN  AMT_INCOME_TOTAL  AMT_CREDIT  AMT_ANNUITY  \\\n",
       "0               Y             0          202500.0    406597.5      24700.5   \n",
       "1               N             0          270000.0   1293502.5      35698.5   \n",
       "2               Y             0           67500.0    135000.0       6750.0   \n",
       "3               Y             0          135000.0    312682.5      29686.5   \n",
       "4               Y             0          121500.0    513000.0      21865.5   \n",
       "\n",
       "   ...  FLAG_DOCUMENT_18 FLAG_DOCUMENT_19 FLAG_DOCUMENT_20 FLAG_DOCUMENT_21  \\\n",
       "0  ...                 0                0                0                0   \n",
       "1  ...                 0                0                0                0   \n",
       "2  ...                 0                0                0                0   \n",
       "3  ...                 0                0                0                0   \n",
       "4  ...                 0                0                0                0   \n",
       "\n",
       "  AMT_REQ_CREDIT_BUREAU_HOUR AMT_REQ_CREDIT_BUREAU_DAY  \\\n",
       "0                        0.0                       0.0   \n",
       "1                        0.0                       0.0   \n",
       "2                        0.0                       0.0   \n",
       "3                        NaN                       NaN   \n",
       "4                        0.0                       0.0   \n",
       "\n",
       "   AMT_REQ_CREDIT_BUREAU_WEEK  AMT_REQ_CREDIT_BUREAU_MON  \\\n",
       "0                         0.0                        0.0   \n",
       "1                         0.0                        0.0   \n",
       "2                         0.0                        0.0   \n",
       "3                         NaN                        NaN   \n",
       "4                         0.0                        0.0   \n",
       "\n",
       "   AMT_REQ_CREDIT_BUREAU_QRT  AMT_REQ_CREDIT_BUREAU_YEAR  \n",
       "0                        0.0                         1.0  \n",
       "1                        0.0                         0.0  \n",
       "2                        0.0                         0.0  \n",
       "3                        NaN                         NaN  \n",
       "4                        0.0                         0.0  \n",
       "\n",
       "[5 rows x 122 columns]"
      ]
     },
     "execution_count": 2,
     "metadata": {},
     "output_type": "execute_result"
    }
   ],
   "source": [
    "f_app = os.path.join(dir_data, 'application_train.csv')\n",
    "print('Path of read in data: %s' % (f_app))\n",
    "app_train = pd.read_csv(f_app)\n",
    "app_train.head()"
   ]
  },
  {
   "cell_type": "markdown",
   "metadata": {},
   "source": [
    "## 請參考 HomeCredit_columns_description.csv 的欄位說明，觀察並列出三個你覺得可能有 outlier 的欄位並解釋可能的原因"
   ]
  },
  {
   "cell_type": "code",
   "execution_count": 3,
   "metadata": {},
   "outputs": [
    {
     "data": {
      "text/plain": [
       "[(dtype('int64'), 'SK_ID_CURR'),\n",
       " (dtype('int64'), 'TARGET'),\n",
       " (dtype('O'), 'NAME_CONTRACT_TYPE'),\n",
       " (dtype('O'), 'CODE_GENDER'),\n",
       " (dtype('O'), 'FLAG_OWN_CAR'),\n",
       " (dtype('O'), 'FLAG_OWN_REALTY'),\n",
       " (dtype('int64'), 'CNT_CHILDREN'),\n",
       " (dtype('float64'), 'AMT_INCOME_TOTAL'),\n",
       " (dtype('float64'), 'AMT_CREDIT'),\n",
       " (dtype('float64'), 'AMT_ANNUITY'),\n",
       " (dtype('float64'), 'AMT_GOODS_PRICE'),\n",
       " (dtype('O'), 'NAME_TYPE_SUITE'),\n",
       " (dtype('O'), 'NAME_INCOME_TYPE'),\n",
       " (dtype('O'), 'NAME_EDUCATION_TYPE'),\n",
       " (dtype('O'), 'NAME_FAMILY_STATUS'),\n",
       " (dtype('O'), 'NAME_HOUSING_TYPE'),\n",
       " (dtype('float64'), 'REGION_POPULATION_RELATIVE'),\n",
       " (dtype('int64'), 'DAYS_BIRTH'),\n",
       " (dtype('int64'), 'DAYS_EMPLOYED'),\n",
       " (dtype('float64'), 'DAYS_REGISTRATION'),\n",
       " (dtype('int64'), 'DAYS_ID_PUBLISH'),\n",
       " (dtype('float64'), 'OWN_CAR_AGE'),\n",
       " (dtype('int64'), 'FLAG_MOBIL'),\n",
       " (dtype('int64'), 'FLAG_EMP_PHONE'),\n",
       " (dtype('int64'), 'FLAG_WORK_PHONE'),\n",
       " (dtype('int64'), 'FLAG_CONT_MOBILE'),\n",
       " (dtype('int64'), 'FLAG_PHONE'),\n",
       " (dtype('int64'), 'FLAG_EMAIL'),\n",
       " (dtype('O'), 'OCCUPATION_TYPE'),\n",
       " (dtype('float64'), 'CNT_FAM_MEMBERS'),\n",
       " (dtype('int64'), 'REGION_RATING_CLIENT'),\n",
       " (dtype('int64'), 'REGION_RATING_CLIENT_W_CITY'),\n",
       " (dtype('O'), 'WEEKDAY_APPR_PROCESS_START'),\n",
       " (dtype('int64'), 'HOUR_APPR_PROCESS_START'),\n",
       " (dtype('int64'), 'REG_REGION_NOT_LIVE_REGION'),\n",
       " (dtype('int64'), 'REG_REGION_NOT_WORK_REGION'),\n",
       " (dtype('int64'), 'LIVE_REGION_NOT_WORK_REGION'),\n",
       " (dtype('int64'), 'REG_CITY_NOT_LIVE_CITY'),\n",
       " (dtype('int64'), 'REG_CITY_NOT_WORK_CITY'),\n",
       " (dtype('int64'), 'LIVE_CITY_NOT_WORK_CITY'),\n",
       " (dtype('O'), 'ORGANIZATION_TYPE'),\n",
       " (dtype('float64'), 'EXT_SOURCE_1'),\n",
       " (dtype('float64'), 'EXT_SOURCE_2'),\n",
       " (dtype('float64'), 'EXT_SOURCE_3'),\n",
       " (dtype('float64'), 'APARTMENTS_AVG'),\n",
       " (dtype('float64'), 'BASEMENTAREA_AVG'),\n",
       " (dtype('float64'), 'YEARS_BEGINEXPLUATATION_AVG'),\n",
       " (dtype('float64'), 'YEARS_BUILD_AVG'),\n",
       " (dtype('float64'), 'COMMONAREA_AVG'),\n",
       " (dtype('float64'), 'ELEVATORS_AVG'),\n",
       " (dtype('float64'), 'ENTRANCES_AVG'),\n",
       " (dtype('float64'), 'FLOORSMAX_AVG'),\n",
       " (dtype('float64'), 'FLOORSMIN_AVG'),\n",
       " (dtype('float64'), 'LANDAREA_AVG'),\n",
       " (dtype('float64'), 'LIVINGAPARTMENTS_AVG'),\n",
       " (dtype('float64'), 'LIVINGAREA_AVG'),\n",
       " (dtype('float64'), 'NONLIVINGAPARTMENTS_AVG'),\n",
       " (dtype('float64'), 'NONLIVINGAREA_AVG'),\n",
       " (dtype('float64'), 'APARTMENTS_MODE'),\n",
       " (dtype('float64'), 'BASEMENTAREA_MODE'),\n",
       " (dtype('float64'), 'YEARS_BEGINEXPLUATATION_MODE'),\n",
       " (dtype('float64'), 'YEARS_BUILD_MODE'),\n",
       " (dtype('float64'), 'COMMONAREA_MODE'),\n",
       " (dtype('float64'), 'ELEVATORS_MODE'),\n",
       " (dtype('float64'), 'ENTRANCES_MODE'),\n",
       " (dtype('float64'), 'FLOORSMAX_MODE'),\n",
       " (dtype('float64'), 'FLOORSMIN_MODE'),\n",
       " (dtype('float64'), 'LANDAREA_MODE'),\n",
       " (dtype('float64'), 'LIVINGAPARTMENTS_MODE'),\n",
       " (dtype('float64'), 'LIVINGAREA_MODE'),\n",
       " (dtype('float64'), 'NONLIVINGAPARTMENTS_MODE'),\n",
       " (dtype('float64'), 'NONLIVINGAREA_MODE'),\n",
       " (dtype('float64'), 'APARTMENTS_MEDI'),\n",
       " (dtype('float64'), 'BASEMENTAREA_MEDI'),\n",
       " (dtype('float64'), 'YEARS_BEGINEXPLUATATION_MEDI'),\n",
       " (dtype('float64'), 'YEARS_BUILD_MEDI'),\n",
       " (dtype('float64'), 'COMMONAREA_MEDI'),\n",
       " (dtype('float64'), 'ELEVATORS_MEDI'),\n",
       " (dtype('float64'), 'ENTRANCES_MEDI'),\n",
       " (dtype('float64'), 'FLOORSMAX_MEDI'),\n",
       " (dtype('float64'), 'FLOORSMIN_MEDI'),\n",
       " (dtype('float64'), 'LANDAREA_MEDI'),\n",
       " (dtype('float64'), 'LIVINGAPARTMENTS_MEDI'),\n",
       " (dtype('float64'), 'LIVINGAREA_MEDI'),\n",
       " (dtype('float64'), 'NONLIVINGAPARTMENTS_MEDI'),\n",
       " (dtype('float64'), 'NONLIVINGAREA_MEDI'),\n",
       " (dtype('O'), 'FONDKAPREMONT_MODE'),\n",
       " (dtype('O'), 'HOUSETYPE_MODE'),\n",
       " (dtype('float64'), 'TOTALAREA_MODE'),\n",
       " (dtype('O'), 'WALLSMATERIAL_MODE'),\n",
       " (dtype('O'), 'EMERGENCYSTATE_MODE'),\n",
       " (dtype('float64'), 'OBS_30_CNT_SOCIAL_CIRCLE'),\n",
       " (dtype('float64'), 'DEF_30_CNT_SOCIAL_CIRCLE'),\n",
       " (dtype('float64'), 'OBS_60_CNT_SOCIAL_CIRCLE'),\n",
       " (dtype('float64'), 'DEF_60_CNT_SOCIAL_CIRCLE'),\n",
       " (dtype('float64'), 'DAYS_LAST_PHONE_CHANGE'),\n",
       " (dtype('int64'), 'FLAG_DOCUMENT_2'),\n",
       " (dtype('int64'), 'FLAG_DOCUMENT_3'),\n",
       " (dtype('int64'), 'FLAG_DOCUMENT_4'),\n",
       " (dtype('int64'), 'FLAG_DOCUMENT_5'),\n",
       " (dtype('int64'), 'FLAG_DOCUMENT_6'),\n",
       " (dtype('int64'), 'FLAG_DOCUMENT_7'),\n",
       " (dtype('int64'), 'FLAG_DOCUMENT_8'),\n",
       " (dtype('int64'), 'FLAG_DOCUMENT_9'),\n",
       " (dtype('int64'), 'FLAG_DOCUMENT_10'),\n",
       " (dtype('int64'), 'FLAG_DOCUMENT_11'),\n",
       " (dtype('int64'), 'FLAG_DOCUMENT_12'),\n",
       " (dtype('int64'), 'FLAG_DOCUMENT_13'),\n",
       " (dtype('int64'), 'FLAG_DOCUMENT_14'),\n",
       " (dtype('int64'), 'FLAG_DOCUMENT_15'),\n",
       " (dtype('int64'), 'FLAG_DOCUMENT_16'),\n",
       " (dtype('int64'), 'FLAG_DOCUMENT_17'),\n",
       " (dtype('int64'), 'FLAG_DOCUMENT_18'),\n",
       " (dtype('int64'), 'FLAG_DOCUMENT_19'),\n",
       " (dtype('int64'), 'FLAG_DOCUMENT_20'),\n",
       " (dtype('int64'), 'FLAG_DOCUMENT_21'),\n",
       " (dtype('float64'), 'AMT_REQ_CREDIT_BUREAU_HOUR'),\n",
       " (dtype('float64'), 'AMT_REQ_CREDIT_BUREAU_DAY'),\n",
       " (dtype('float64'), 'AMT_REQ_CREDIT_BUREAU_WEEK'),\n",
       " (dtype('float64'), 'AMT_REQ_CREDIT_BUREAU_MON'),\n",
       " (dtype('float64'), 'AMT_REQ_CREDIT_BUREAU_QRT'),\n",
       " (dtype('float64'), 'AMT_REQ_CREDIT_BUREAU_YEAR')]"
      ]
     },
     "execution_count": 3,
     "metadata": {},
     "output_type": "execute_result"
    }
   ],
   "source": [
    "list(zip(app_train.dtypes, app_train.columns))\n"
   ]
  },
  {
   "cell_type": "code",
   "execution_count": 4,
   "metadata": {
    "scrolled": true
   },
   "outputs": [
    {
     "name": "stdout",
     "output_type": "stream",
     "text": [
      "Numbers of remain columns: 8\n"
     ]
    },
    {
     "data": {
      "image/png": "[encoded data removed]",
      "text/plain": [
       "<Figure size 432x288 with 1 Axes>"
      ]
     },
     "metadata": {
      "needs_background": "light"
     },
     "output_type": "display_data"
    },
    {
     "data": {
      "image/png": "[encoded data removed]",
      "text/plain": [
       "<Figure size 432x288 with 1 Axes>"
      ]
     },
     "metadata": {
      "needs_background": "light"
     },
     "output_type": "display_data"
    },
    {
     "data": {
      "image/png": "[encoded data removed]",
      "text/plain": [
       "<Figure size 432x288 with 1 Axes>"
      ]
     },
     "metadata": {
      "needs_background": "light"
     },
     "output_type": "display_data"
    },
    {
     "data": {
      "image/png": "[encoded data removed]",
      "text/plain": [
       "<Figure size 432x288 with 1 Axes>"
      ]
     },
     "metadata": {
      "needs_background": "light"
     },
     "output_type": "display_data"
    },
    {
     "data": {
      "image/png": "[encoded data removed]",
      "text/plain": [
       "<Figure size 432x288 with 1 Axes>"
      ]
     },
     "metadata": {
      "needs_background": "light"
     },
     "output_type": "display_data"
    },
    {
     "data": {
      "image/png": "[encoded data removed]",
      "text/plain": [
       "<Figure size 432x288 with 1 Axes>"
      ]
     },
     "metadata": {
      "needs_background": "light"
     },
     "output_type": "display_data"
    },
    {
     "data": {
      "image/png": "[encoded data removed]",
      "text/plain": [
       "<Figure size 432x288 with 1 Axes>"
      ]
     },
     "metadata": {
      "needs_background": "light"
     },
     "output_type": "display_data"
    },
    {
     "data": {
      "image/png": "[encoded data removed]",
      "text/plain": [
       "<Figure size 432x288 with 1 Axes>"
      ]
     },
     "metadata": {
      "needs_background": "light"
     },
     "output_type": "display_data"
    }
   ],
   "source": [
    "# 先篩選數值型的欄位\n",
    "numeric_columns = []\n",
    "\n",
    "for dtype,name in zip(app_train.dtypes,app_train.columns):\n",
    "    if dtype == (\"int64\" or \"float64\"):\n",
    "        numeric_columns.append(name)\n",
    "        \n",
    "# 再把只有 2 值 (通常是 0,1) 的欄位去掉\n",
    "numeric_columns = list(app_train[numeric_columns].columns[list(app_train[numeric_columns].apply(lambda x:len(x.unique())!=2 ))])\n",
    "print(\"Numbers of remain columns: %d\" % len(numeric_columns))\n",
    "\n",
    "# 檢視這些欄位的數值範圍\n",
    "for col in numeric_columns:\n",
    "    app_train.boxplot(col)\n",
    "    plt.show()"
   ]
  },
  {
   "cell_type": "code",
   "execution_count": null,
   "metadata": {},
   "outputs": [],
   "source": []
  },
  {
   "cell_type": "markdown",
   "metadata": {},
   "source": [
    "### Hints: Emprical Cumulative Density Plot, [ECDF](https://zh.wikipedia.org/wiki/%E7%BB%8F%E9%AA%8C%E5%88%86%E5%B8%83%E5%87%BD%E6%95%B0), [ECDF with Python](https://stackoverflow.com/questions/14006520/ecdf-in-python-without-step-function)"
   ]
  },
  {
   "cell_type": "code",
   "execution_count": 5,
   "metadata": {},
   "outputs": [
    {
     "name": "stdout",
     "output_type": "stream",
     "text": [
      "count    3.075110e+05\n",
      "mean     1.687979e+05\n",
      "std      2.371231e+05\n",
      "min      2.565000e+04\n",
      "25%      1.125000e+05\n",
      "50%      1.471500e+05\n",
      "75%      2.025000e+05\n",
      "max      1.170000e+08\n",
      "Name: AMT_INCOME_TOTAL, dtype: float64\n"
     ]
    },
    {
     "data": {
      "image/png": "[encoded data removed]",
      "text/plain": [
       "<Figure size 432x288 with 1 Axes>"
      ]
     },
     "metadata": {
      "needs_background": "light"
     },
     "output_type": "display_data"
    },
    {
     "data": {
      "image/png": "[encoded data removed]",
      "text/plain": [
       "<Figure size 432x288 with 1 Axes>"
      ]
     },
     "metadata": {
      "needs_background": "light"
     },
     "output_type": "display_data"
    }
   ],
   "source": [
    "# 最大值離平均與中位數很遠\n",
    "print(app_train['AMT_INCOME_TOTAL'].describe())\n",
    "\n",
    "# 繪製 Empirical Cumulative Density Plot (ECDF)\n",
    "\"\"\"\n",
    "YOUR CODE HERE\n",
    "\"\"\"\n",
    "cdf = app_train.AMT_INCOME_TOTAL.value_counts().sort_index().cumsum()\n",
    "plt.plot(list(cdf.index), cdf/cdf.max())\n",
    "plt.xlabel('Value')\n",
    "plt.ylabel('ECDF')\n",
    "plt.xlim([cdf.index.min(), cdf.index.max() * 1.05]) # 限制顯示圖片的範圍\n",
    "plt.ylim([-0.05,1.05]) # 限制顯示圖片的範圍\n",
    "\n",
    "plt.show()\n",
    "\n",
    "# 改變 y 軸的 Scale, 讓我們可以正常檢視 ECDF\n",
    "plt.plot(np.log(list(cdf.index)), cdf/cdf.max())\n",
    "plt.xlabel('Value (log-scale)')\n",
    "plt.ylabel('ECDF')\n",
    "\n",
    "plt.ylim([-0.05,1.05]) # 限制顯示圖片的範圍\n",
    "\n",
    "plt.show()"
   ]
  },
  {
   "cell_type": "markdown",
   "metadata": {},
   "source": [
    "## 補充：Normal dist 的 ECDF\n",
    "![ecdf_normal](https://au.mathworks.com/help/examples/stats/win64/PlotEmpiricalCdfAndCompareWithSamplingDistributionExample_01.png)"
   ]
  },
  {
   "cell_type": "code",
   "execution_count": 6,
   "metadata": {},
   "outputs": [
    {
     "name": "stdout",
     "output_type": "stream",
     "text": [
      "count    307511.000000\n",
      "mean          0.020868\n",
      "std           0.013831\n",
      "min           0.000290\n",
      "25%           0.010006\n",
      "50%           0.018850\n",
      "75%           0.028663\n",
      "max           0.072508\n",
      "Name: REGION_POPULATION_RELATIVE, dtype: float64\n"
     ]
    },
    {
     "data": {
      "image/png": "[encoded data removed]",
      "text/plain": [
       "<Figure size 432x288 with 1 Axes>"
      ]
     },
     "metadata": {
      "needs_background": "light"
     },
     "output_type": "display_data"
    },
    {
     "data": {
      "image/png": "[encoded data removed]",
      "text/plain": [
       "<Figure size 432x288 with 1 Axes>"
      ]
     },
     "metadata": {
      "needs_background": "light"
     },
     "output_type": "display_data"
    },
    {
     "data": {
      "text/plain": [
       "0.035792    16408\n",
       "0.046220    13442\n",
       "0.030755    12163\n",
       "0.025164    11950\n",
       "0.026392    11601\n",
       "            ...  \n",
       "0.001417      467\n",
       "0.001333      235\n",
       "0.000533       39\n",
       "0.000938       28\n",
       "0.000290        2\n",
       "Name: REGION_POPULATION_RELATIVE, Length: 81, dtype: int64"
      ]
     },
     "execution_count": 6,
     "metadata": {},
     "output_type": "execute_result"
    }
   ],
   "source": [
    "# 最大值落在分布之外\n",
    "print(app_train['REGION_POPULATION_RELATIVE'].describe())\n",
    "\n",
    "# 繪製 Empirical Cumulative Density Plot (ECDF)\n",
    "\"\"\"\n",
    "Your Code Here\n",
    "\"\"\"\n",
    "cdf = app_train.REGION_POPULATION_RELATIVE.value_counts().sort_index().cumsum()\n",
    "\n",
    "\n",
    "plt.plot(list(cdf.index), cdf/cdf.max())\n",
    "plt.xlabel('Value')\n",
    "plt.ylabel('ECDF')\n",
    "plt.ylim([-0.05,1.05]) # 限制顯示圖片的範圍\n",
    "plt.show()\n",
    "\n",
    "app_train['REGION_POPULATION_RELATIVE'].hist()\n",
    "plt.show()\n",
    "\n",
    "app_train['REGION_POPULATION_RELATIVE'].value_counts()\n",
    "\n",
    "# 就以這個欄位來說，雖然有資料掉在分布以外，也不算異常，僅代表這間公司在稍微熱鬧的地區有的據點較少，\n",
    "# 導致 region population relative 在少的部分較為密集，但在大的部分較為疏漏"
   ]
  },
  {
   "cell_type": "code",
   "execution_count": 7,
   "metadata": {
    "scrolled": true
   },
   "outputs": [
    {
     "name": "stdout",
     "output_type": "stream",
     "text": [
      "count    306490.000000\n",
      "mean          1.405292\n",
      "std           2.379803\n",
      "min           0.000000\n",
      "25%           0.000000\n",
      "50%           0.000000\n",
      "75%           2.000000\n",
      "max         344.000000\n",
      "Name: OBS_60_CNT_SOCIAL_CIRCLE, dtype: float64\n"
     ]
    },
    {
     "data": {
      "image/png": "[encoded data removed]",
      "text/plain": [
       "<Figure size 432x288 with 1 Axes>"
      ]
     },
     "metadata": {
      "needs_background": "light"
     },
     "output_type": "display_data"
    },
    {
     "data": {
      "image/png": "[encoded data removed]",
      "text/plain": [
       "<Figure size 432x288 with 1 Axes>"
      ]
     },
     "metadata": {
      "needs_background": "light"
     },
     "output_type": "display_data"
    },
    {
     "name": "stdout",
     "output_type": "stream",
     "text": [
      "344.0         1\n",
      "47.0          1\n",
      "30.0          1\n",
      "29.0          2\n",
      "28.0          1\n",
      "27.0          5\n",
      "26.0          1\n",
      "25.0         11\n",
      "24.0         12\n",
      "23.0         13\n",
      "22.0         20\n",
      "21.0         28\n",
      "20.0         30\n",
      "19.0         44\n",
      "18.0         49\n",
      "17.0         73\n",
      "16.0        137\n",
      "15.0        166\n",
      "14.0        238\n",
      "13.0        401\n",
      "12.0        620\n",
      "11.0        837\n",
      "10.0       1335\n",
      "9.0        1959\n",
      "8.0        2886\n",
      "7.0        4344\n",
      "6.0        6349\n",
      "5.0        9463\n",
      "4.0       13946\n",
      "3.0       20215\n",
      "2.0       29766\n",
      "1.0       48870\n",
      "0.0      164666\n",
      "Name: OBS_60_CNT_SOCIAL_CIRCLE, dtype: int64\n"
     ]
    }
   ],
   "source": [
    "# 最大值落在分布之外\n",
    "print(app_train['OBS_60_CNT_SOCIAL_CIRCLE'].describe())\n",
    "\n",
    "# 繪製 Empirical Cumulative Density Plot (ECDF)\n",
    "\n",
    "\n",
    "cdf = app_train.OBS_60_CNT_SOCIAL_CIRCLE.value_counts().sort_index().cumsum()\n",
    "\n",
    "\n",
    "plt.plot(list(cdf.index), cdf/cdf.max())\n",
    "plt.xlabel('Value')\n",
    "plt.ylabel('ECDF')\n",
    "plt.xlim([cdf.index.min() * 0.95, cdf.index.max() * 1.05])\n",
    "plt.ylim([-0.05,1.05]) # 限制顯示圖片的範圍\n",
    "plt.show()\n",
    "\n",
    "app_train['OBS_60_CNT_SOCIAL_CIRCLE'].hist()\n",
    "plt.show()\n",
    "print(app_train['OBS_60_CNT_SOCIAL_CIRCLE'].value_counts().sort_index(ascending = False))"
   ]
  },
  {
   "cell_type": "code",
   "execution_count": 8,
   "metadata": {},
   "outputs": [
    {
     "data": {
      "text/plain": [
       "0.0      164666\n",
       "1.0      213536\n",
       "2.0      243302\n",
       "3.0      263517\n",
       "4.0      277463\n",
       "5.0      286926\n",
       "6.0      293275\n",
       "7.0      297619\n",
       "8.0      300505\n",
       "9.0      302464\n",
       "10.0     303799\n",
       "11.0     304636\n",
       "12.0     305256\n",
       "13.0     305657\n",
       "14.0     305895\n",
       "15.0     306061\n",
       "16.0     306198\n",
       "17.0     306271\n",
       "18.0     306320\n",
       "19.0     306364\n",
       "20.0     306394\n",
       "21.0     306422\n",
       "22.0     306442\n",
       "23.0     306455\n",
       "24.0     306467\n",
       "25.0     306478\n",
       "26.0     306479\n",
       "27.0     306484\n",
       "28.0     306485\n",
       "29.0     306487\n",
       "30.0     306488\n",
       "47.0     306489\n",
       "344.0    306490\n",
       "Name: OBS_60_CNT_SOCIAL_CIRCLE, dtype: int64"
      ]
     },
     "execution_count": 8,
     "metadata": {},
     "output_type": "execute_result"
    }
   ],
   "source": [
    "app_train[app_train['OBS_60_CNT_SOCIAL_CIRCLE']<20]\n",
    "app_train.loc[:,'OBS_60_CNT_SOCIAL_CIRCLE']\n",
    "app_train.OBS_60_CNT_SOCIAL_CIRCLE.value_counts().sort_index().cumsum()\n"
   ]
  },
  {
   "cell_type": "markdown",
   "metadata": {},
   "source": [
    "## 注意：當 histogram 畫出上面這種圖 (只出現一條，但是 x 軸延伸很長導致右邊有一大片空白時，代表右邊有值但是數量稀少。這時可以考慮用 value_counts 去找到這些數值"
   ]
  },
  {
   "cell_type": "code",
   "execution_count": 9,
   "metadata": {},
   "outputs": [
    {
     "data": {
      "image/png": "[encoded data removed]",
      "text/plain": [
       "<Figure size 432x288 with 1 Axes>"
      ]
     },
     "metadata": {
      "needs_background": "light"
     },
     "output_type": "display_data"
    }
   ],
   "source": [
    "# 把一些極端值暫時去掉，在繪製一次 Histogram\n",
    "# 選擇 OBS_60_CNT_SOCIAL_CIRCLE 小於 20 的資料點繪製\n",
    "\n",
    "app_train[app_train['OBS_60_CNT_SOCIAL_CIRCLE']<20].OBS_60_CNT_SOCIAL_CIRCLE.hist()\n",
    "plt.show()"
   ]
  }
 ],
 "metadata": {
  "anaconda-cloud": {},
  "kernelspec": {
   "display_name": "Python 3",
   "language": "python",
   "name": "python3"
  },
  "language_info": {
   "codemirror_mode": {
    "name": "ipython",
    "version": 3
   },
   "file_extension": ".py",
   "mimetype": "text/x-python",
   "name": "python",
   "nbconvert_exporter": "python",
   "pygments_lexer": "ipython3",
   "version": "3.8.5"
  }
 },
 "nbformat": 4,
 "nbformat_minor": 1
}
